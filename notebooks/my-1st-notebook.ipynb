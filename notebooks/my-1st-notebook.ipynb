{
 "cells": [
  {
   "cell_type": "code",
   "execution_count": 1,
   "id": "c4b459c0",
   "metadata": {},
   "outputs": [],
   "source": [
    "import numpy as np\n",
    "from IPython.display import display"
   ]
  },
  {
   "cell_type": "markdown",
   "id": "695f78a0",
   "metadata": {},
   "source": [
    "Create a (10, 3) array with random integers between 0 and 100"
   ]
  },
  {
   "cell_type": "code",
   "execution_count": 2,
   "id": "e5950cf4",
   "metadata": {},
   "outputs": [],
   "source": [
    "my_array = np.random.randint(0, 100, size=(10, 3))"
   ]
  },
  {
   "cell_type": "markdown",
   "id": "4d63989b",
   "metadata": {},
   "source": [
    "Display the array"
   ]
  },
  {
   "cell_type": "code",
   "execution_count": 3,
   "id": "a3bfd400",
   "metadata": {},
   "outputs": [
    {
     "data": {
      "text/plain": [
       "array([[13,  6, 48],\n",
       "       [81, 70,  0],\n",
       "       [10, 36,  2],\n",
       "       [37, 68, 21],\n",
       "       [74, 20, 82],\n",
       "       [55, 58, 38],\n",
       "       [74,  7, 86],\n",
       "       [74, 83, 35],\n",
       "       [83, 42, 81],\n",
       "       [49, 24, 58]], dtype=int32)"
      ]
     },
     "metadata": {},
     "output_type": "display_data"
    }
   ],
   "source": [
    "display(my_array)"
   ]
  }
 ],
 "metadata": {
  "kernelspec": {
   "display_name": ".venv",
   "language": "python",
   "name": "python3"
  },
  "language_info": {
   "codemirror_mode": {
    "name": "ipython",
    "version": 3
   },
   "file_extension": ".py",
   "mimetype": "text/x-python",
   "name": "python",
   "nbconvert_exporter": "python",
   "pygments_lexer": "ipython3",
   "version": "3.13.2"
  }
 },
 "nbformat": 4,
 "nbformat_minor": 5
}
