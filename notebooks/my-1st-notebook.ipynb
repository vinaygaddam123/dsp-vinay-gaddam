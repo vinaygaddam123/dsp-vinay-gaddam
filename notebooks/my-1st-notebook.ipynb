{
 "cells": [
  {
   "cell_type": "code",
   "execution_count": 3,
   "id": "96b81256-d2d3-4b4e-a127-c74ac6031e76",
   "metadata": {},
   "outputs": [
    {
     "data": {
      "text/plain": [
       "array([[84, 86, 19],\n",
       "       [61, 89,  7],\n",
       "       [48, 52, 35],\n",
       "       [23,  6, 68],\n",
       "       [57, 18, 96],\n",
       "       [80, 71, 89],\n",
       "       [78, 20, 12],\n",
       "       [26, 34, 69],\n",
       "       [76, 52, 84],\n",
       "       [99,  6, 80]], dtype=int32)"
      ]
     },
     "metadata": {},
     "output_type": "display_data"
    }
   ],
   "source": [
    "import numpy as np\n",
    "\n",
    "# Create a (10, 3) numpy array with random integers between 0 and 100\n",
    "my_array = np.random.randint(0, 100, (10, 3))\n",
    "\n",
    "# Display the array\n",
    "display(my_array)\n"
   ]
  },
  {
   "cell_type": "code",
   "execution_count": null,
   "id": "fdcbc3d1-02ac-4706-8444-4a737722ef7a",
   "metadata": {},
   "outputs": [],
   "source": []
  }
 ],
 "metadata": {
  "kernelspec": {
   "display_name": "Python 3 (ipykernel)",
   "language": "python",
   "name": "python3"
  },
  "language_info": {
   "codemirror_mode": {
    "name": "ipython",
    "version": 3
   },
   "file_extension": ".py",
   "mimetype": "text/x-python",
   "name": "python",
   "nbconvert_exporter": "python",
   "pygments_lexer": "ipython3",
   "version": "3.12.9"
  }
 },
 "nbformat": 4,
 "nbformat_minor": 5
}
